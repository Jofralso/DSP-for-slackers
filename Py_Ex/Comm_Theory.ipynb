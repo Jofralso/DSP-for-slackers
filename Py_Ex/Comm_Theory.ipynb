{
 "cells": [
  {
   "cell_type": "code",
   "execution_count": 2,
   "metadata": {},
   "outputs": [
    {
     "ename": "TypeError",
     "evalue": "expected a sequence of integers or a single integer, got '1272.0'",
     "output_type": "error",
     "traceback": [
      "\u001b[1;31m---------------------------------------------------------------------------\u001b[0m",
      "\u001b[1;31mTypeError\u001b[0m                                 Traceback (most recent call last)",
      "\u001b[1;32mc:\\Users\\estgl\\Documents\\GitHub\\DSP-for-slackers\\Py_Ex\\Comm_Theory.ipynb Cell 1\u001b[0m line \u001b[0;36m2\n\u001b[0;32m     <a href='vscode-notebook-cell:/c%3A/Users/estgl/Documents/GitHub/DSP-for-slackers/Py_Ex/Comm_Theory.ipynb#W0sZmlsZQ%3D%3D?line=19'>20</a>\u001b[0m VEC_SIZE \u001b[39m=\u001b[39m ceil(\u001b[39m100\u001b[39m\u001b[39m/\u001b[39mPe[loop])  \u001b[39m# vector length is a function of Pe\u001b[39;00m\n\u001b[0;32m     <a href='vscode-notebook-cell:/c%3A/Users/estgl/Documents/GitHub/DSP-for-slackers/Py_Ex/Comm_Theory.ipynb#W0sZmlsZQ%3D%3D?line=21'>22</a>\u001b[0m \u001b[39m# signal vector, new vector for each SNR value\u001b[39;00m\n\u001b[1;32m---> <a href='vscode-notebook-cell:/c%3A/Users/estgl/Documents/GitHub/DSP-for-slackers/Py_Ex/Comm_Theory.ipynb#W0sZmlsZQ%3D%3D?line=22'>23</a>\u001b[0m s \u001b[39m=\u001b[39m \u001b[39m2\u001b[39m\u001b[39m*\u001b[39mrandom\u001b[39m.\u001b[39;49mrandint(\u001b[39m0\u001b[39;49m,high\u001b[39m=\u001b[39;49m\u001b[39m2\u001b[39;49m,size\u001b[39m=\u001b[39;49mVEC_SIZE)\u001b[39m-\u001b[39m\u001b[39m1\u001b[39m\n\u001b[0;32m     <a href='vscode-notebook-cell:/c%3A/Users/estgl/Documents/GitHub/DSP-for-slackers/Py_Ex/Comm_Theory.ipynb#W0sZmlsZQ%3D%3D?line=24'>25</a>\u001b[0m \u001b[39m# linear power of the noise; average signal power = 1\u001b[39;00m\n\u001b[0;32m     <a href='vscode-notebook-cell:/c%3A/Users/estgl/Documents/GitHub/DSP-for-slackers/Py_Ex/Comm_Theory.ipynb#W0sZmlsZQ%3D%3D?line=25'>26</a>\u001b[0m No \u001b[39m=\u001b[39m \u001b[39m1.0\u001b[39m\u001b[39m/\u001b[39msnr\n",
      "File \u001b[1;32mnumpy\\\\random\\\\mtrand.pyx:779\u001b[0m, in \u001b[0;36mnumpy.random.mtrand.RandomState.randint\u001b[1;34m()\u001b[0m\n",
      "File \u001b[1;32mnumpy\\\\random\\\\_bounded_integers.pyx:2903\u001b[0m, in \u001b[0;36mnumpy.random._bounded_integers._rand_int32\u001b[1;34m()\u001b[0m\n",
      "\u001b[1;31mTypeError\u001b[0m: expected a sequence of integers or a single integer, got '1272.0'"
     ]
    }
   ],
   "source": [
    "#!/usr/bin/python\n",
    "# BPSK digital modulation example\n",
    "# by Ivo Maljevic\n",
    "\n",
    "from numpy import *\n",
    "from scipy.special import erfc\n",
    "import matplotlib.pyplot as plt\n",
    "\n",
    "SNR_MIN     = 0\n",
    "SNR_MAX     = 9\n",
    "Eb_No_dB    = arange(SNR_MIN,SNR_MAX+1)\n",
    "SNR         = 10**(Eb_No_dB/10.0)  # linear SNR\n",
    "\n",
    "Pe          = empty(shape(SNR))\n",
    "BER         = empty(shape(SNR))\n",
    "\n",
    "loop = 0\n",
    "for snr in SNR:      # SNR loop\n",
    " Pe[loop] = 0.5*erfc(sqrt(snr))\n",
    " VEC_SIZE = ceil(100/Pe[loop])  # vector length is a function of Pe\n",
    "\n",
    " # signal vector, new vector for each SNR value\n",
    " s = 2*random.randint(0,high=2,size=VEC_SIZE)-1\n",
    "\n",
    " # linear power of the noise; average signal power = 1\n",
    " No = 1.0/snr\n",
    "\n",
    " # noise\n",
    " n = sqrt(No/2)*random.randn(VEC_SIZE)\n",
    "\n",
    " # signal + noise\n",
    " x = s + n\n",
    "\n",
    " # decode received signal + noise\n",
    " y = sign(x)\n",
    "\n",
    " # find erroneous symbols\n",
    " err = where(y != s)\n",
    " error_sum = float(len(err[0]))\n",
    " BER[loop] = error_sum/VEC_SIZE\n",
    " print ('Eb_No_dB=%4.2f, BER=%10.4e, Pe=%10.4e') % \\\n",
    "        (Eb_No_dB[loop], BER[loop], Pe[loop])\n",
    " loop += 1\n",
    "\n",
    "#plt.semilogy(Eb_No_dB, Pe,'r',Eb_No_dB, BER,'s')\n",
    "plt.semilogy(Eb_No_dB, Pe,'r',linewidth=2)\n",
    "plt.semilogy(Eb_No_dB, BER,'-s')\n",
    "plt.grid(True)\n",
    "plt.legend(('analytical','simulation'))\n",
    "plt.xlabel('Eb/No (dB)')\n",
    "plt.ylabel('BER')\n",
    "plt.show()"
   ]
  },
  {
   "cell_type": "code",
   "execution_count": 3,
   "metadata": {},
   "outputs": [
    {
     "ename": "SyntaxError",
     "evalue": "Missing parentheses in call to 'print'. Did you mean print(...)? (2751638767.py, line 52)",
     "output_type": "error",
     "traceback": [
      "\u001b[1;36m  Cell \u001b[1;32mIn[3], line 52\u001b[1;36m\u001b[0m\n\u001b[1;33m    print 'Eb_No_dB=%2d, BER=%10.4e, Pe[loop]=%10.4e' % \\\u001b[0m\n\u001b[1;37m    ^\u001b[0m\n\u001b[1;31mSyntaxError\u001b[0m\u001b[1;31m:\u001b[0m Missing parentheses in call to 'print'. Did you mean print(...)?\n"
     ]
    },
    {
     "ename": "",
     "evalue": "",
     "output_type": "error",
     "traceback": [
      "\u001b[1;31mThe Kernel crashed while executing code in the the current cell or a previous cell. Please review the code in the cell(s) to identify a possible cause of the failure. Click <a href='https://aka.ms/vscodeJupyterKernelCrash'>here</a> for more info. View Jupyter <a href='command:jupyter.viewOutput'>log</a> for further details."
     ]
    }
   ],
   "source": [
    "#!/usr/bin/python\n",
    "# BPSK digital modulation: modified example\n",
    "# by Ivo Maljevic\n",
    "\n",
    "from scipy import *\n",
    "from math import sqrt, ceil  # scalar calls are faster\n",
    "from scipy.special import erfc\n",
    "import matplotlib.pyplot as plt\n",
    "\n",
    "rand   = random.rand\n",
    "normal = random.normal\n",
    "\n",
    "SNR_MIN   = 0\n",
    "SNR_MAX   = 10\n",
    "FrameSize = 10000\n",
    "Eb_No_dB  = arange(SNR_MIN,SNR_MAX+1)\n",
    "Eb_No_lin = 10**(Eb_No_dB/10.0)  # linear SNR\n",
    "\n",
    "# Allocate memory\n",
    "Pe        = empty(shape(Eb_No_lin))\n",
    "BER       = empty(shape(Eb_No_lin))\n",
    "\n",
    "# signal vector (for faster exec we can repeat the same frame)\n",
    "s = 2*random.randint(0,high=2,size=FrameSize)-1\n",
    "\n",
    "loop = 0\n",
    "for snr in Eb_No_lin:\n",
    " No        = 1.0/snr\n",
    " Pe[loop]  = 0.5*erfc(sqrt(snr))\n",
    " nFrames   = ceil(100.0/FrameSize/Pe[loop])\n",
    " error_sum = 0\n",
    " scale = sqrt(No/2)\n",
    "\n",
    " for frame in arange(nFrames):\n",
    "   # noise\n",
    "   n = normal(scale=scale, size=FrameSize)\n",
    "\n",
    "   # received signal + noise\n",
    "   x = s + n\n",
    "\n",
    "   # detection (information is encoded in signal phase)\n",
    "   y = sign(x)\n",
    "\n",
    "   # error counting\n",
    "   err = where (y != s)\n",
    "   error_sum += len(err[0])\n",
    "\n",
    "   # end of frame loop\n",
    "   ##################################################\n",
    "\n",
    " BER[loop] = error_sum/(FrameSize*nFrames)  # SNR loop level\n",
    " print 'Eb_No_dB=%2d, BER=%10.4e, Pe[loop]=%10.4e' % \\\n",
    "        (Eb_No_dB[loop], BER[loop], Pe[loop])\n",
    " loop += 1\n",
    "\n",
    "plt.semilogy(Eb_No_dB, Pe,'r',linewidth=2)\n",
    "plt.semilogy(Eb_No_dB, BER,'-s')\n",
    "plt.grid(True)\n",
    "plt.legend(('analytical','simulation'))\n",
    "plt.xlabel('Eb/No (dB)')\n",
    "plt.ylabel('BER')\n",
    "plt.show()"
   ]
  }
 ],
 "metadata": {
  "kernelspec": {
   "display_name": "Python 3",
   "language": "python",
   "name": "python3"
  },
  "language_info": {
   "codemirror_mode": {
    "name": "ipython",
    "version": 3
   },
   "file_extension": ".py",
   "mimetype": "text/x-python",
   "name": "python",
   "nbconvert_exporter": "python",
   "pygments_lexer": "ipython3",
   "version": "3.12.0"
  }
 },
 "nbformat": 4,
 "nbformat_minor": 2
}
